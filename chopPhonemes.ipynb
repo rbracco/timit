{
 "cells": [
  {
   "cell_type": "code",
   "execution_count": 2,
   "metadata": {},
   "outputs": [],
   "source": [
    "%reload_ext autoreload\n",
    "%autoreload 2\n",
    "%matplotlib inline"
   ]
  },
  {
   "cell_type": "code",
   "execution_count": 31,
   "metadata": {},
   "outputs": [],
   "source": [
    "from itertools import islice\n",
    "from pathlib import Path\n",
    "from IPython.display import Audio\n",
    "import librosa\n",
    "import librosa.display\n",
    "import matplotlib.pyplot as plt\n",
    "import numpy as np\n",
    "import pandas as pd\n",
    "import re\n",
    "import glob\n",
    "import os\n",
    "import random\n",
    "import torchaudio\n",
    "import scipy\n",
    "from scipy.fftpack import fft\n",
    "from scipy.signal import get_window"
   ]
  },
  {
   "cell_type": "code",
   "execution_count": 150,
   "metadata": {},
   "outputs": [],
   "source": [
    "base = Path(\"/home/jupyter/rob/TIMIT/timit\")\n",
    "path_data = base/\"TRAIN\"\n",
    "path_phoneme = base/\"PHONEMES\""
   ]
  },
  {
   "cell_type": "code",
   "execution_count": 156,
   "metadata": {},
   "outputs": [],
   "source": [
    "if (not os.path.exists(path_phoneme)):\n",
    "    os.mkdir(path_phoneme)"
   ]
  },
  {
   "cell_type": "code",
   "execution_count": 151,
   "metadata": {},
   "outputs": [],
   "source": [
    "def getPhonemeListFromPhonemeFile(phoneme_filename):\n",
    "    with open(phoneme_filename, 'r') as f:\n",
    "        phoneme_data = f.read()\n",
    "    #first number is start time, second is endtime, last group is the phonetic symbol (NIST format)\n",
    "    phoneme_list = re.findall(\"(\\d+) (\\d+) ([^\\\\n]+)\", phoneme_data)\n",
    "    return phoneme_list"
   ]
  },
  {
   "cell_type": "code",
   "execution_count": 157,
   "metadata": {},
   "outputs": [],
   "source": [
    "def chopWavFileToPhonemes(wav_filename):\n",
    "    clip, sample_rate = torchaudio.load(wav_filename)\n",
    "    clip = clip.squeeze()\n",
    "    phoneme_datafile = wav_filename.replace(\".WAV\", \".PHN\")\n",
    "    phoneme_list = getPhonemeListFromPhonemeFile(phoneme_datafile)\n",
    "    for start_index, end_index, phoneme in phoneme_list:\n",
    "        specific_phoneme_path = path_phoneme/phoneme\n",
    "        if (not os.path.exists(specific_phoneme_path)):\n",
    "            os.mkdir(specific_phoneme_path)\n",
    "        save_portion = clip[int(start_index):int(end_index)]\n",
    "        phoneme_savefile = ('-'.join(wav_filename.split('/')[-3:-1]) + f'-{random.randint(0,2**20)}.WAV')\n",
    "        torchaudio.save(str(specific_phoneme_path/phoneme_savefile), save_portion, sample_rate)"
   ]
  },
  {
   "cell_type": "code",
   "execution_count": 158,
   "metadata": {},
   "outputs": [],
   "source": [
    "def absoluteFilePaths(directory):\n",
    "    for dirpath,_,filenames in os.walk(directory):\n",
    "        for f in filenames:\n",
    "            yield os.path.abspath(os.path.join(dirpath, f))"
   ]
  },
  {
   "cell_type": "code",
   "execution_count": 159,
   "metadata": {},
   "outputs": [],
   "source": [
    "# takes 1-2 minutes to run\n",
    "def chopAllWavToPhonemes():\n",
    "    count = 0\n",
    "    wav_files = [fpath for fpath in absoluteFilePaths(path_data) if fpath.split('.')[-1] == 'WAV']\n",
    "    for wav_file in wav_files:\n",
    "        chopWavFileToPhonemes(wav_file)"
   ]
  },
  {
   "cell_type": "code",
   "execution_count": 160,
   "metadata": {},
   "outputs": [],
   "source": [
    "chopAllWavToPhonemes()"
   ]
  },
  {
   "cell_type": "code",
   "execution_count": null,
   "metadata": {},
   "outputs": [],
   "source": []
  }
 ],
 "metadata": {
  "kernelspec": {
   "display_name": "Python 3",
   "language": "python",
   "name": "python3"
  }
 },
 "nbformat": 4,
 "nbformat_minor": 2
}
